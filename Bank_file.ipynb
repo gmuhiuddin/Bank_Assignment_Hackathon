{
 "cells": [
  {
   "cell_type": "code",
   "execution_count": 1,
   "id": "be5bc73a-01cb-49e4-80e6-5ed9088d3b60",
   "metadata": {},
   "outputs": [],
   "source": [
    "from Bank_module import Bank, BankAccount, generateUniqueAccNo\n",
    "\n",
    "bank = Bank()\n",
    "bank_account = BankAccount()"
   ]
  },
  {
   "cell_type": "code",
   "execution_count": 2,
   "id": "86d24060-a7af-4c19-981f-881c280722ba",
   "metadata": {},
   "outputs": [],
   "source": [
    "acc_no = generateUniqueAccNo([])\n",
    "\n",
    "bank.create_account(\"Imarn\",acc_no)"
   ]
  },
  {
   "cell_type": "code",
   "execution_count": 9,
   "id": "5269ef0d-297b-44e0-8258-b2c79dd51885",
   "metadata": {},
   "outputs": [
    {
     "data": {
      "text/plain": [
       "{'807223049': {'title': 'Imarn', 'transactions': []}}"
      ]
     },
     "execution_count": 9,
     "metadata": {},
     "output_type": "execute_result"
    }
   ],
   "source": [
    "bank.get_all_accounts()"
   ]
  },
  {
   "cell_type": "code",
   "execution_count": 4,
   "id": "e8c0ecf8-af23-4230-b95a-98c70678def8",
   "metadata": {},
   "outputs": [
    {
     "data": {
      "text/plain": [
       "'Account not found in this acc_no'"
      ]
     },
     "execution_count": 4,
     "metadata": {},
     "output_type": "execute_result"
    }
   ],
   "source": [
    "bank_account.deposit(\"330038883\", 100)"
   ]
  },
  {
   "cell_type": "code",
   "execution_count": 5,
   "id": "2c0f133c-2eb2-466e-b1a5-3139bec5f89f",
   "metadata": {},
   "outputs": [
    {
     "data": {
      "text/plain": [
       "'Account not found in this acc_no'"
      ]
     },
     "execution_count": 5,
     "metadata": {},
     "output_type": "execute_result"
    }
   ],
   "source": [
    "bank_account.check_acc_bal(\"330038883\")"
   ]
  },
  {
   "cell_type": "code",
   "execution_count": 6,
   "id": "16e00e31-5ebd-4b35-9bd8-b8c778ac449b",
   "metadata": {},
   "outputs": [
    {
     "data": {
      "text/plain": [
       "'Account not found in this acc_no'"
      ]
     },
     "execution_count": 6,
     "metadata": {},
     "output_type": "execute_result"
    }
   ],
   "source": [
    "bank_account.withdraw(\"330038883\", 100)"
   ]
  },
  {
   "cell_type": "code",
   "execution_count": 7,
   "id": "e9f051f5-59b4-42ba-a362-4220582bbef2",
   "metadata": {},
   "outputs": [
    {
     "data": {
      "text/plain": [
       "'Account not found in this acc_no'"
      ]
     },
     "execution_count": 7,
     "metadata": {},
     "output_type": "execute_result"
    }
   ],
   "source": [
    "bank.get_account(\"330038883\")"
   ]
  },
  {
   "cell_type": "code",
   "execution_count": 8,
   "id": "b72803c5-f0e3-4ced-a346-b28bdceb4ede",
   "metadata": {},
   "outputs": [
    {
     "data": {
      "text/plain": [
       "['218217784']"
      ]
     },
     "execution_count": 8,
     "metadata": {},
     "output_type": "execute_result"
    }
   ],
   "source": [
    "bank.all_acc_no()"
   ]
  },
  {
   "cell_type": "code",
   "execution_count": 5,
   "id": "15859aa4-636f-41ab-9c36-3a2635b439c9",
   "metadata": {},
   "outputs": [],
   "source": [
    "def run_bank():\n",
    "    try:\n",
    "        first_response = input(\"\"\"\n",
    "Hey, how may I help you:\n",
    "press 1: for account opening\n",
    "press 2: for checking deposit money\n",
    "press 3: for checking withdraw money\n",
    "press 4: for checking account balance\n",
    "press 5: for send money:\n",
    "press 6: for transactions history: \"\"\")\n",
    "\n",
    "        if not first_response.isdigit():\n",
    "            return print(\"Please enter only digit\")\n",
    "\n",
    "        first_response = int(first_response)\n",
    "        \n",
    "        if first_response not in range(1, 7):\n",
    "            return print(\"Please enter dedicated option\")\n",
    "\n",
    "        if first_response == 1:\n",
    "            acc_title = input(\"Please enter your account title\")\n",
    "\n",
    "            allAccNo = bank.all_acc_no()\n",
    "\n",
    "            acc_no = generateUniqueAccNo(allAccNo)\n",
    "            \n",
    "            bank.create_account(acc_title, acc_no)\n",
    "\n",
    "            print(\"Congrates your account was created in apna bank\")\n",
    "            \n",
    "        elif first_response == 2:\n",
    "            acc_no = input(\"Please enter your account\")\n",
    "            amount = float(input(\"Please enter amount for deposing\"))\n",
    "\n",
    "            res = bank_account.deposit(acc_no, amount)\n",
    "            \n",
    "            print(res) \n",
    "            \n",
    "        elif first_response == 3:\n",
    "            acc_no = input(\"Please enter your account\")\n",
    "            amount = float(input(\"Please enter amount for withfrawing\"))\n",
    "\n",
    "            res = bank_account.withdraw(acc_no, amount)\n",
    "            \n",
    "            print(res)\n",
    "        elif first_response == 4:\n",
    "            acc_no = input(\"Please enter your account\")\n",
    "\n",
    "            acc_bal = bank_account.check_acc_bal(acc_no)\n",
    "            \n",
    "            print(acc_bal)  \n",
    "        elif first_response == 5:\n",
    "            sender_acc_no = input(\"Please enter your account no: \")\n",
    "            receiver_acc_no = input(\"Please enter receiver account no: \")\n",
    "            amount = float(input(\"Please enter a amount\"))\n",
    "\n",
    "            res = bank.transfer_money(sender_acc_no, receiver_acc_no, amount)\n",
    "            \n",
    "            print(res)\n",
    "        elif first_response == 6:\n",
    "            acc_no = input(\"Please enter your account no: \")\n",
    "\n",
    "            bank_account.print_statement(acc_no)\n",
    "\n",
    "    except Exception as e:\n",
    "        print(\"error\", e)"
   ]
  },
  {
   "cell_type": "code",
   "execution_count": 19,
   "id": "1e189a56-778c-4bbb-be4d-5fa95707c0a7",
   "metadata": {},
   "outputs": [
    {
     "name": "stdin",
     "output_type": "stream",
     "text": [
      "\n",
      "Hey, how may I help you:\n",
      "press 1: for account opening\n",
      "press 2: for checking deposit money\n",
      "press 3: for checking withdraw money\n",
      "press 4: for checking account balance\n",
      "press 5: for send money:\n",
      "press 6: for transactions history:  4\n",
      "Please enter your account 807223049\n"
     ]
    },
    {
     "name": "stdout",
     "output_type": "stream",
     "text": [
      "Your account balance is 50.0\n"
     ]
    }
   ],
   "source": [
    "run_bank()"
   ]
  },
  {
   "cell_type": "code",
   "execution_count": null,
   "id": "c5cf7fa4-c9a6-4a21-9874-12ebc85bd6e4",
   "metadata": {},
   "outputs": [],
   "source": []
  }
 ],
 "metadata": {
  "kernelspec": {
   "display_name": "Python 3 (ipykernel)",
   "language": "python",
   "name": "python3"
  },
  "language_info": {
   "codemirror_mode": {
    "name": "ipython",
    "version": 3
   },
   "file_extension": ".py",
   "mimetype": "text/x-python",
   "name": "python",
   "nbconvert_exporter": "python",
   "pygments_lexer": "ipython3",
   "version": "3.12.7"
  }
 },
 "nbformat": 4,
 "nbformat_minor": 5
}
