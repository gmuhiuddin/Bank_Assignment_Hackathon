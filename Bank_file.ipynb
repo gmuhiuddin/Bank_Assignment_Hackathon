{
 "cells": [
  {
   "cell_type": "code",
   "execution_count": 23,
   "id": "be5bc73a-01cb-49e4-80e6-5ed9088d3b60",
   "metadata": {},
   "outputs": [],
   "source": [
    "from Bank_module import Bank, BankAccount, generateUniqueAccNo\n",
    "\n",
    "bank = Bank()\n",
    "bank_account = BankAccount()"
   ]
  },
  {
   "cell_type": "code",
   "execution_count": 29,
   "id": "86d24060-a7af-4c19-981f-881c280722ba",
   "metadata": {},
   "outputs": [],
   "source": [
    "acc_no = generateUniqueAccNo([])\n",
    "\n",
    "bank.create_account(\"Imarn\",acc_no)"
   ]
  },
  {
   "cell_type": "code",
   "execution_count": 31,
   "id": "5269ef0d-297b-44e0-8258-b2c79dd51885",
   "metadata": {},
   "outputs": [
    {
     "data": {
      "text/plain": [
       "{'575193689': {'title': 'Ghulam Muhiuddin', 'transactions': []},\n",
       " '048416473': {'title': 'Ghulam Muhiuddin', 'transactions': []},\n",
       " '330038883': {'title': 'Imarn', 'transactions': []}}"
      ]
     },
     "execution_count": 31,
     "metadata": {},
     "output_type": "execute_result"
    }
   ],
   "source": [
    "bank.get_all_accounts()"
   ]
  },
  {
   "cell_type": "code",
   "execution_count": null,
   "id": "e8c0ecf8-af23-4230-b95a-98c70678def8",
   "metadata": {},
   "outputs": [],
   "source": [
    "bank_account.deposit(\"330038883\")"
   ]
  }
 ],
 "metadata": {
  "kernelspec": {
   "display_name": "Python 3 (ipykernel)",
   "language": "python",
   "name": "python3"
  },
  "language_info": {
   "codemirror_mode": {
    "name": "ipython",
    "version": 3
   },
   "file_extension": ".py",
   "mimetype": "text/x-python",
   "name": "python",
   "nbconvert_exporter": "python",
   "pygments_lexer": "ipython3",
   "version": "3.12.7"
  }
 },
 "nbformat": 4,
 "nbformat_minor": 5
}
